{
 "cells": [
  {
   "cell_type": "code",
   "execution_count": 1,
   "id": "fd8f6b0a-594f-4af9-9405-1c3fbecd2de6",
   "metadata": {},
   "outputs": [],
   "source": [
    "import requests\n",
    "from lxml import etree"
   ]
  },
  {
   "cell_type": "markdown",
   "id": "887063d2-3b5a-458e-b38d-e96ad6c8ada6",
   "metadata": {
    "tags": []
   },
   "source": [
    "导入第三方库"
   ]
  },
  {
   "cell_type": "code",
   "execution_count": 2,
   "id": "27f32f8d-9f53-4f4b-ad6a-ef430537dc76",
   "metadata": {},
   "outputs": [],
   "source": [
    "def edit_in():\n",
    "    \n",
    "    with open(path+title+'.txt','w',encoding = 'utf-8') as f:    #设置文件对象\n",
    "        f.write(title1)                 #将字符串写入文件中\n",
    "        f.write(paragraph)"
   ]
  },
  {
   "cell_type": "markdown",
   "id": "1c91e353-8d59-494b-8e3c-59ab0c8a2a32",
   "metadata": {},
   "source": [
    "写入函数"
   ]
  },
  {
   "cell_type": "code",
   "execution_count": 3,
   "id": "b520b937-0d7d-4027-ad30-e393c7886831",
   "metadata": {},
   "outputs": [],
   "source": [
    "url = 'https://www.bbiquge.net'\n",
    "bookurl = '/book/17236/'\n",
    "r = requests.get(url+bookurl)"
   ]
  },
  {
   "cell_type": "code",
   "execution_count": 4,
   "id": "e66dc682-9404-4fde-8f78-1829fa967ea6",
   "metadata": {},
   "outputs": [
    {
     "name": "stdout",
     "output_type": "stream",
     "text": [
      "<class 'lxml.etree._Element'>\n"
     ]
    }
   ],
   "source": [
    "root = etree.HTML(r.text) # 将html转化为Element对象\n",
    "print(type(root)) # <class 'lxml.etree._Element'>\n",
    "# print(root.attrib)\n",
    "title = ''.join(root.xpath('//*[@id=\"info\"]/h1/text()'))\n",
    "author = ''.join(root.xpath('//*[@id=\"info\"]/h1/small/a/text()'))\n",
    "introduce = ''.join(root.xpath('//*[@id=\"intro\"]/text()'))\n",
    "pages_link = root.xpath('/html/body/div[4]/div/select/option/@value')"
   ]
  },
  {
   "cell_type": "code",
   "execution_count": 5,
   "id": "2f3ced91-8d63-4c82-b7f2-11c913eb55c5",
   "metadata": {},
   "outputs": [],
   "source": [
    "path = \"C:\\\\Users\\\\wangy\\\\Desktop\\\\\"\n",
    "with open(path+title+'.txt','w',encoding = 'utf-8') as f:    #设置文件对象\n",
    "        f.seek(0)\n",
    "        f.truncate()"
   ]
  },
  {
   "cell_type": "code",
   "execution_count": 6,
   "id": "7152d0c7-6b97-4ff0-90a9-fcf478a57df3",
   "metadata": {},
   "outputs": [
    {
     "name": "stdout",
     "output_type": "stream",
     "text": [
      "<class 'str'>\n",
      "我的治愈系游戏  我会修空调    警察同志，如果我说这是一款休闲治愈系游戏，你们信吗？ \n"
     ]
    }
   ],
   "source": [
    "print(type(author))\n",
    "print(title,author,introduce)"
   ]
  },
  {
   "cell_type": "code",
   "execution_count": 7,
   "id": "eb77b8a7-df10-4b87-b62f-b54a6ea5eb5a",
   "metadata": {},
   "outputs": [
    {
     "name": "stdout",
     "output_type": "stream",
     "text": [
      "<class 'list'>\n"
     ]
    }
   ],
   "source": [
    "link = []\n",
    "print(type(link))\n",
    "for p in pages_link:\n",
    "    pg = requests.get(url+p)\n",
    "    if pg.status_code == 200:\n",
    "        # print(type(root.xpath('/html/body/div[4]/dl//dd/a/@href')))\n",
    "        link.extend(root.xpath('/html/body/div[4]/dl//dd/a/@href'))"
   ]
  },
  {
   "cell_type": "markdown",
   "id": "0253fe34-b95b-438a-ad3f-3f3efd016573",
   "metadata": {},
   "source": [
    "获取目录列表"
   ]
  },
  {
   "cell_type": "code",
   "execution_count": 8,
   "id": "c2599ca8-a171-470a-a877-1f4bb269acc3",
   "metadata": {},
   "outputs": [],
   "source": [
    "for l in link:\n",
    "    txt = requests.get(url+bookurl+l)\n",
    "    if txt.status_code == 200:\n",
    "        etxt = etree.HTML(txt.text)\n",
    "        title1 = '\\n'.join(etxt.xpath('//*[@id=\"main\"]/h1/text()'))\n",
    "        paragraph = '\\n'.join(etxt.xpath('//*[@id=\"content\"]/text()'))\n",
    "        # print(paragraph)\n",
    "        edit_in()\n",
    "    else:\n",
    "        print('失败')\n",
    "        \n",
    "        "
   ]
  }
 ],
 "metadata": {
  "kernelspec": {
   "display_name": "Python 3 (ipykernel)",
   "language": "python",
   "name": "python3"
  },
  "language_info": {
   "codemirror_mode": {
    "name": "ipython",
    "version": 3
   },
   "file_extension": ".py",
   "mimetype": "text/x-python",
   "name": "python",
   "nbconvert_exporter": "python",
   "pygments_lexer": "ipython3",
   "version": "3.11.0"
  },
  "toc-autonumbering": false,
  "toc-showcode": true,
  "toc-showmarkdowntxt": true,
  "toc-showtags": false
 },
 "nbformat": 4,
 "nbformat_minor": 5
}
